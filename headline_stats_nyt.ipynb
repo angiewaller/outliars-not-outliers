{
 "cells": [
  {
   "cell_type": "markdown",
   "metadata": {},
   "source": [
    "# Outliars not Outliers\n",
    "\n",
    "Author: Angie Waller\n",
    "\n",
    "The following scripts were used to create charts in the book *Outliars: A Discourse Guide to Fact-Checking and Click-Baiting.*\n",
    "\n",
    "The book can be found at https://www.unknownunknowns.org/product/outliars"
   ]
  },
  {
   "cell_type": "code",
   "execution_count": 33,
   "metadata": {},
   "outputs": [],
   "source": [
    "import spacy\n",
    "import textacy\n",
    "nlp = spacy.load('en_core_web_sm')\n",
    "import pandas as pd\n",
    "from textblob import TextBlob\n",
    "import datetime\n",
    "import truecase"
   ]
  },
  {
   "cell_type": "markdown",
   "metadata": {},
   "source": [
    "# Headlines collections\n",
    "This dataset was created using The New York Times api to collect headlines of articled published in the last fifteen years. The csv file (allfinals.csv) filters this collection to headlines that included the president's last name. Only articles that were published during the president's term are considered for that president."
   ]
  },
  {
   "cell_type": "code",
   "execution_count": 3,
   "metadata": {},
   "outputs": [],
   "source": [
    "#import headline csv\n",
    "#csv columns of interest are headline, date, president\n",
    "df= pd.read_csv('allfinals.csv') \n",
    "headlines = [[x,y,z,a] for x, y,z,a in zip(df['date'], df['headline'],df['pres'], df['material_type'])]"
   ]
  },
  {
   "cell_type": "code",
   "execution_count": 5,
   "metadata": {},
   "outputs": [
    {
     "data": {
      "text/html": [
       "<div>\n",
       "<style scoped>\n",
       "    .dataframe tbody tr th:only-of-type {\n",
       "        vertical-align: middle;\n",
       "    }\n",
       "\n",
       "    .dataframe tbody tr th {\n",
       "        vertical-align: top;\n",
       "    }\n",
       "\n",
       "    .dataframe thead th {\n",
       "        text-align: right;\n",
       "    }\n",
       "</style>\n",
       "<table border=\"1\" class=\"dataframe\">\n",
       "  <thead>\n",
       "    <tr style=\"text-align: right;\">\n",
       "      <th></th>\n",
       "      <th>Unnamed: 0</th>\n",
       "      <th>date</th>\n",
       "      <th>doc_type</th>\n",
       "      <th>headline</th>\n",
       "      <th>keywords</th>\n",
       "      <th>material_type</th>\n",
       "      <th>pres</th>\n",
       "      <th>section</th>\n",
       "      <th>web_url</th>\n",
       "    </tr>\n",
       "  </thead>\n",
       "  <tbody>\n",
       "    <tr>\n",
       "      <th>0</th>\n",
       "      <td>4</td>\n",
       "      <td>2018-12-01</td>\n",
       "      <td>article</td>\n",
       "      <td>Trump Fund-Raiser Received Laundered Foreign M...</td>\n",
       "      <td>['Presidential Election of 2016', 'United Stat...</td>\n",
       "      <td>News</td>\n",
       "      <td>trump</td>\n",
       "      <td>NaN</td>\n",
       "      <td>https://www.nytimes.com/2018/11/30/us/politics...</td>\n",
       "    </tr>\n",
       "    <tr>\n",
       "      <th>1</th>\n",
       "      <td>9</td>\n",
       "      <td>2018-12-01</td>\n",
       "      <td>article</td>\n",
       "      <td>Trump Administration Peppers Inboxes With Plug...</td>\n",
       "      <td>['Health Insurance and Managed Care', 'Medicar...</td>\n",
       "      <td>News</td>\n",
       "      <td>trump</td>\n",
       "      <td>NaN</td>\n",
       "      <td>https://www.nytimes.com/2018/12/01/us/politics...</td>\n",
       "    </tr>\n",
       "    <tr>\n",
       "      <th>2</th>\n",
       "      <td>10</td>\n",
       "      <td>2018-12-01</td>\n",
       "      <td>article</td>\n",
       "      <td>Trump Tops Tricky Dick</td>\n",
       "      <td>['Russian Interference in 2016 US Elections an...</td>\n",
       "      <td>Op-Ed</td>\n",
       "      <td>trump</td>\n",
       "      <td>NaN</td>\n",
       "      <td>https://www.nytimes.com/2018/11/30/opinion/don...</td>\n",
       "    </tr>\n",
       "    <tr>\n",
       "      <th>3</th>\n",
       "      <td>12</td>\n",
       "      <td>2018-12-02</td>\n",
       "      <td>article</td>\n",
       "      <td>‘S.N.L.’ Has Alec Baldwin and Ben Stiller Play...</td>\n",
       "      <td>['Television']</td>\n",
       "      <td>News</td>\n",
       "      <td>trump</td>\n",
       "      <td>NaN</td>\n",
       "      <td>https://www.nytimes.com/2018/12/02/arts/televi...</td>\n",
       "    </tr>\n",
       "    <tr>\n",
       "      <th>4</th>\n",
       "      <td>13</td>\n",
       "      <td>2018-12-04</td>\n",
       "      <td>article</td>\n",
       "      <td>Trump Warns China That He’s ‘Tariff Man,’ Spoo...</td>\n",
       "      <td>['United States Economy', 'Government Bonds', ...</td>\n",
       "      <td>News</td>\n",
       "      <td>trump</td>\n",
       "      <td>NaN</td>\n",
       "      <td>https://www.nytimes.com/2018/12/04/business/yi...</td>\n",
       "    </tr>\n",
       "  </tbody>\n",
       "</table>\n",
       "</div>"
      ],
      "text/plain": [
       "   Unnamed: 0        date doc_type  \\\n",
       "0           4  2018-12-01  article   \n",
       "1           9  2018-12-01  article   \n",
       "2          10  2018-12-01  article   \n",
       "3          12  2018-12-02  article   \n",
       "4          13  2018-12-04  article   \n",
       "\n",
       "                                            headline  \\\n",
       "0  Trump Fund-Raiser Received Laundered Foreign M...   \n",
       "1  Trump Administration Peppers Inboxes With Plug...   \n",
       "2                             Trump Tops Tricky Dick   \n",
       "3  ‘S.N.L.’ Has Alec Baldwin and Ben Stiller Play...   \n",
       "4  Trump Warns China That He’s ‘Tariff Man,’ Spoo...   \n",
       "\n",
       "                                            keywords material_type   pres  \\\n",
       "0  ['Presidential Election of 2016', 'United Stat...          News  trump   \n",
       "1  ['Health Insurance and Managed Care', 'Medicar...          News  trump   \n",
       "2  ['Russian Interference in 2016 US Elections an...         Op-Ed  trump   \n",
       "3                                     ['Television']          News  trump   \n",
       "4  ['United States Economy', 'Government Bonds', ...          News  trump   \n",
       "\n",
       "   section                                            web_url  \n",
       "0      NaN  https://www.nytimes.com/2018/11/30/us/politics...  \n",
       "1      NaN  https://www.nytimes.com/2018/12/01/us/politics...  \n",
       "2      NaN  https://www.nytimes.com/2018/11/30/opinion/don...  \n",
       "3      NaN  https://www.nytimes.com/2018/12/02/arts/televi...  \n",
       "4      NaN  https://www.nytimes.com/2018/12/04/business/yi...  "
      ]
     },
     "execution_count": 5,
     "metadata": {},
     "output_type": "execute_result"
    }
   ],
   "source": [
    "df.head()"
   ]
  },
  {
   "cell_type": "markdown",
   "metadata": {},
   "source": [
    "The following script creates two new data tables from the headlines. One considers the features of the headline such as word count and count of different parts of speech (POS). The other table analyzes the tokens and bigrams of the headlines, allowing consideration of trends in vocabulary and punctuation used to compose the headlines."
   ]
  },
  {
   "cell_type": "code",
   "execution_count": 4,
   "metadata": {},
   "outputs": [],
   "source": [
    "#building two new datatables\n",
    "#one is for the headline stats including headline length, pos counts, date and pres\n",
    "tokenlist=[]\n",
    "headlinelist=[]\n",
    "\n",
    "for headline in headlines:\n",
    "    headline_d={}\n",
    "    #headlines are converted to sentence case using true_case so that the POS tagger is more accurate\n",
    "    headline_text=truecase.get_true_case(headline[1])\n",
    "    date=headline[0]\n",
    "    pres=headline[2]\n",
    "    section=headline[3]\n",
    "    \n",
    "    \n",
    "    #using the spacy.io tagger to label the headline\n",
    "    doc=nlp(headline_text)\n",
    "    \n",
    "    #counting number of different POS for linguistic analysis\n",
    "    words=[w for w in list(doc)]\n",
    "    headline_d['length']=len([w for w in list(doc) if w.is_alpha])\n",
    "    headline_d['nounct'] = len([w for w in words if w.pos_ == \"NOUN\"])\n",
    "    headline_d['verbct'] = len([w for w in words if w.pos_ == \"VERB\"])\n",
    "    headline_d['adjct'] = len([w for w in words if w.pos_ == \"ADJ\"])\n",
    "    headline_d['advct'] = len([w for w in words if w.pos_ == \"ADV\"])  \n",
    "    headline_d['date']=date\n",
    "    headline_d['pres']=pres\n",
    "    headline_d['section']=section\n",
    "\n",
    "    #getting readability stats using textacy library\n",
    "    #https://textacy.readthedocs.io/\n",
    "    #these were not used in final analysis \n",
    "    #more work needs to be done to factor the number of syllables for presidents name not being a factor\n",
    "    #i.e. Obama is a three syllable word that will skew readability levels compared to headlines with one syllable names like Trump and Bush\n",
    "    \n",
    "    ts = textacy.TextStats(doc)\n",
    "    headline_d['syllables']=ts.n_syllables\n",
    "    headline_d['chars']=ts.n_chars\n",
    "    #headline_d['entropy']=ts.entropy\n",
    "    headline_d['grade_level']=ts.flesch_kincaid_grade_level\n",
    "    headline_d['flesch']=ts.flesch_reading_ease\n",
    "    headline_d['lix']=ts.lix\n",
    "\n",
    "    #getting sentiment analysis scores\n",
    "    #these were not used in final anlysis, but kept for future study \n",
    "    headline_blob=TextBlob(headline_text)\n",
    "    headline_d['polarity']=headline_blob.sentiment.polarity\n",
    "    headline_d['subjectivity']=headline_blob.sentiment.subjectivity\n",
    "\n",
    "\n",
    "    #in this table, headlines are broken down to token level to better analyze trends in word usage and punctuation\n",
    "    headline_d['headline']=headline_text\n",
    "    i=0\n",
    "    for i in range(len(words)+1):\n",
    "        word_d={}\n",
    "        word_d['token']=words[i-1].text.lower()\n",
    "        word_d['lemma']=words[i-1].lemma_\n",
    "        word_d['pos']=words[i-1].pos_\n",
    "        if i-2>=0:\n",
    "            word_d['prev_word']=words[i-2].text.lower()\n",
    "        if i!=0 and i!=len(words):\n",
    "            word_d['bigram']=words[i-1].text.lower() + \" \" + words[i].text.lower()\n",
    "        word_d['pres']=pres\n",
    "        word_d['date']=date\n",
    "    \n",
    "        tokenlist.append(word_d)\n",
    "        i+=1\n",
    "\n",
    "    headlinelist.append(headline_d)"
   ]
  },
  {
   "cell_type": "code",
   "execution_count": 5,
   "metadata": {},
   "outputs": [],
   "source": [
    "token_df=pd.DataFrame(tokenlist) \n",
    "doc_df=pd.DataFrame(headlinelist)"
   ]
  },
  {
   "cell_type": "markdown",
   "metadata": {},
   "source": [
    "# Final headline table\n",
    "The headline table contains headlines along with length(word count) and other features that can be used to analyze trends in headline composition over time."
   ]
  },
  {
   "cell_type": "code",
   "execution_count": 6,
   "metadata": {},
   "outputs": [
    {
     "data": {
      "text/html": [
       "<div>\n",
       "<style scoped>\n",
       "    .dataframe tbody tr th:only-of-type {\n",
       "        vertical-align: middle;\n",
       "    }\n",
       "\n",
       "    .dataframe tbody tr th {\n",
       "        vertical-align: top;\n",
       "    }\n",
       "\n",
       "    .dataframe thead th {\n",
       "        text-align: right;\n",
       "    }\n",
       "</style>\n",
       "<table border=\"1\" class=\"dataframe\">\n",
       "  <thead>\n",
       "    <tr style=\"text-align: right;\">\n",
       "      <th></th>\n",
       "      <th>adjct</th>\n",
       "      <th>advct</th>\n",
       "      <th>chars</th>\n",
       "      <th>date</th>\n",
       "      <th>flesch</th>\n",
       "      <th>grade_level</th>\n",
       "      <th>headline</th>\n",
       "      <th>length</th>\n",
       "      <th>lix</th>\n",
       "      <th>nounct</th>\n",
       "      <th>polarity</th>\n",
       "      <th>pres</th>\n",
       "      <th>section</th>\n",
       "      <th>subjectivity</th>\n",
       "      <th>syllables</th>\n",
       "      <th>verbct</th>\n",
       "    </tr>\n",
       "  </thead>\n",
       "  <tbody>\n",
       "    <tr>\n",
       "      <th>0</th>\n",
       "      <td>2</td>\n",
       "      <td>0</td>\n",
       "      <td>58</td>\n",
       "      <td>2018-12-01</td>\n",
       "      <td>37.900000</td>\n",
       "      <td>10.208889</td>\n",
       "      <td>Trump fund-raiser received laundered foreign m...</td>\n",
       "      <td>9</td>\n",
       "      <td>53.444444</td>\n",
       "      <td>4</td>\n",
       "      <td>-0.125</td>\n",
       "      <td>trump</td>\n",
       "      <td>News</td>\n",
       "      <td>0.125</td>\n",
       "      <td>17</td>\n",
       "      <td>3</td>\n",
       "    </tr>\n",
       "    <tr>\n",
       "      <th>1</th>\n",
       "      <td>2</td>\n",
       "      <td>0</td>\n",
       "      <td>65</td>\n",
       "      <td>2018-12-01</td>\n",
       "      <td>35.945000</td>\n",
       "      <td>10.730000</td>\n",
       "      <td>Trump administration Peppers Inboxes with plug...</td>\n",
       "      <td>10</td>\n",
       "      <td>60.000000</td>\n",
       "      <td>4</td>\n",
       "      <td>0.000</td>\n",
       "      <td>trump</td>\n",
       "      <td>News</td>\n",
       "      <td>0.375</td>\n",
       "      <td>19</td>\n",
       "      <td>0</td>\n",
       "    </tr>\n",
       "    <tr>\n",
       "      <th>2</th>\n",
       "      <td>2</td>\n",
       "      <td>0</td>\n",
       "      <td>19</td>\n",
       "      <td>2018-12-01</td>\n",
       "      <td>118.175000</td>\n",
       "      <td>-2.230000</td>\n",
       "      <td>Trump tops tricky Dick</td>\n",
       "      <td>4</td>\n",
       "      <td>4.000000</td>\n",
       "      <td>1</td>\n",
       "      <td>0.000</td>\n",
       "      <td>trump</td>\n",
       "      <td>Op-Ed</td>\n",
       "      <td>0.000</td>\n",
       "      <td>4</td>\n",
       "      <td>0</td>\n",
       "    </tr>\n",
       "    <tr>\n",
       "      <th>3</th>\n",
       "      <td>0</td>\n",
       "      <td>0</td>\n",
       "      <td>57</td>\n",
       "      <td>2018-12-02</td>\n",
       "      <td>95.939286</td>\n",
       "      <td>3.355714</td>\n",
       "      <td>‘ S. N. L. ’ has Alec Baldwin and Ben Stiller ...</td>\n",
       "      <td>11</td>\n",
       "      <td>35.428571</td>\n",
       "      <td>0</td>\n",
       "      <td>0.000</td>\n",
       "      <td>trump</td>\n",
       "      <td>News</td>\n",
       "      <td>0.000</td>\n",
       "      <td>16</td>\n",
       "      <td>1</td>\n",
       "    </tr>\n",
       "    <tr>\n",
       "      <th>4</th>\n",
       "      <td>0</td>\n",
       "      <td>0</td>\n",
       "      <td>53</td>\n",
       "      <td>2018-12-04</td>\n",
       "      <td>80.306364</td>\n",
       "      <td>4.790909</td>\n",
       "      <td>Trump WARNS China that he ’ s ‘ tariff man, ’ ...</td>\n",
       "      <td>11</td>\n",
       "      <td>29.181818</td>\n",
       "      <td>5</td>\n",
       "      <td>0.000</td>\n",
       "      <td>trump</td>\n",
       "      <td>News</td>\n",
       "      <td>0.000</td>\n",
       "      <td>15</td>\n",
       "      <td>4</td>\n",
       "    </tr>\n",
       "  </tbody>\n",
       "</table>\n",
       "</div>"
      ],
      "text/plain": [
       "   adjct  advct  chars        date      flesch  grade_level  \\\n",
       "0      2      0     58  2018-12-01   37.900000    10.208889   \n",
       "1      2      0     65  2018-12-01   35.945000    10.730000   \n",
       "2      2      0     19  2018-12-01  118.175000    -2.230000   \n",
       "3      0      0     57  2018-12-02   95.939286     3.355714   \n",
       "4      0      0     53  2018-12-04   80.306364     4.790909   \n",
       "\n",
       "                                            headline  length        lix  \\\n",
       "0  Trump fund-raiser received laundered foreign m...       9  53.444444   \n",
       "1  Trump administration Peppers Inboxes with plug...      10  60.000000   \n",
       "2                             Trump tops tricky Dick       4   4.000000   \n",
       "3  ‘ S. N. L. ’ has Alec Baldwin and Ben Stiller ...      11  35.428571   \n",
       "4  Trump WARNS China that he ’ s ‘ tariff man, ’ ...      11  29.181818   \n",
       "\n",
       "   nounct  polarity   pres section  subjectivity  syllables  verbct  \n",
       "0       4    -0.125  trump    News         0.125         17       3  \n",
       "1       4     0.000  trump    News         0.375         19       0  \n",
       "2       1     0.000  trump   Op-Ed         0.000          4       0  \n",
       "3       0     0.000  trump    News         0.000         16       1  \n",
       "4       5     0.000  trump    News         0.000         15       4  "
      ]
     },
     "execution_count": 6,
     "metadata": {},
     "output_type": "execute_result"
    }
   ],
   "source": [
    "doc_df.head()"
   ]
  },
  {
   "cell_type": "code",
   "execution_count": 14,
   "metadata": {},
   "outputs": [],
   "source": [
    "#make new column for year\n",
    "def getyear(date):\n",
    "    #first four numbers in date column are year\n",
    "    return int(date[0:4])\n",
    "\n",
    "doc_df['year']=doc_df['date'].apply(getyear)"
   ]
  },
  {
   "cell_type": "markdown",
   "metadata": {},
   "source": [
    "This table groups headlines by year. The resulting counts are headlines that featured the serving president during the years in question."
   ]
  },
  {
   "cell_type": "code",
   "execution_count": 10,
   "metadata": {},
   "outputs": [
    {
     "data": {
      "text/plain": [
       "<matplotlib.axes._subplots.AxesSubplot at 0x1a404215f8>"
      ]
     },
     "execution_count": 10,
     "metadata": {},
     "output_type": "execute_result"
    },
    {
     "data": {
      "image/png": "[encoded data removed]",
      "text/plain": [
       "<Figure size 432x288 with 1 Axes>"
      ]
     },
     "metadata": {},
     "output_type": "display_data"
    }
   ],
   "source": [
    "#calculating the count of headlines for each sitting president\n",
    "%matplotlib inline\n",
    "count_headlines = doc_df.pivot_table(values=\"headline\", index=\"year\", columns=\"pres\", aggfunc=pd.Series.nunique)\n",
    "count_headlines.plot(kind='bar',width=2.0)\n"
   ]
  },
  {
   "cell_type": "markdown",
   "metadata": {},
   "source": [
    "This chart filters for only opinion and editoral pieces (provided in the NYT dataset). The result is headlines in these sections that featured the serving president's last name."
   ]
  },
  {
   "cell_type": "code",
   "execution_count": 22,
   "metadata": {},
   "outputs": [
    {
     "data": {
      "text/plain": [
       "<matplotlib.axes._subplots.AxesSubplot at 0x7fe85498d5f8>"
      ]
     },
     "execution_count": 22,
     "metadata": {},
     "output_type": "execute_result"
    },
    {
     "data": {
      "image/png": "[encoded data removed]",
      "text/plain": [
       "<Figure size 432x288 with 1 Axes>"
      ]
     },
     "metadata": {},
     "output_type": "display_data"
    }
   ],
   "source": [
    "%matplotlib inline\n",
    "opinion_list=['Op-Ed', 'Editorial', 'Opinion', 'Editorial; Letter','Letter']\n",
    "count_opinion=doc_df[doc_df['section'].isin(opinion_list)].pivot_table(values=\"headline\", index=\"year\", columns=\"pres\", aggfunc=pd.Series.nunique)\n",
    "count_opinion.plot(kind='bar',width=2.0)"
   ]
  },
  {
   "cell_type": "markdown",
   "metadata": {},
   "source": [
    "# Final token table"
   ]
  },
  {
   "cell_type": "code",
   "execution_count": 7,
   "metadata": {},
   "outputs": [
    {
     "data": {
      "text/html": [
       "<div>\n",
       "<style scoped>\n",
       "    .dataframe tbody tr th:only-of-type {\n",
       "        vertical-align: middle;\n",
       "    }\n",
       "\n",
       "    .dataframe tbody tr th {\n",
       "        vertical-align: top;\n",
       "    }\n",
       "\n",
       "    .dataframe thead th {\n",
       "        text-align: right;\n",
       "    }\n",
       "</style>\n",
       "<table border=\"1\" class=\"dataframe\">\n",
       "  <thead>\n",
       "    <tr style=\"text-align: right;\">\n",
       "      <th></th>\n",
       "      <th>bigram</th>\n",
       "      <th>date</th>\n",
       "      <th>lemma</th>\n",
       "      <th>pos</th>\n",
       "      <th>pres</th>\n",
       "      <th>prev_word</th>\n",
       "      <th>token</th>\n",
       "    </tr>\n",
       "  </thead>\n",
       "  <tbody>\n",
       "    <tr>\n",
       "      <th>0</th>\n",
       "      <td>NaN</td>\n",
       "      <td>2018-12-01</td>\n",
       "      <td>say</td>\n",
       "      <td>VERB</td>\n",
       "      <td>trump</td>\n",
       "      <td>NaN</td>\n",
       "      <td>say</td>\n",
       "    </tr>\n",
       "    <tr>\n",
       "      <th>1</th>\n",
       "      <td>trump fund</td>\n",
       "      <td>2018-12-01</td>\n",
       "      <td>trump</td>\n",
       "      <td>ADJ</td>\n",
       "      <td>trump</td>\n",
       "      <td>NaN</td>\n",
       "      <td>trump</td>\n",
       "    </tr>\n",
       "    <tr>\n",
       "      <th>2</th>\n",
       "      <td>fund -</td>\n",
       "      <td>2018-12-01</td>\n",
       "      <td>fund</td>\n",
       "      <td>NOUN</td>\n",
       "      <td>trump</td>\n",
       "      <td>trump</td>\n",
       "      <td>fund</td>\n",
       "    </tr>\n",
       "    <tr>\n",
       "      <th>3</th>\n",
       "      <td>- raiser</td>\n",
       "      <td>2018-12-01</td>\n",
       "      <td>-</td>\n",
       "      <td>PUNCT</td>\n",
       "      <td>trump</td>\n",
       "      <td>fund</td>\n",
       "      <td>-</td>\n",
       "    </tr>\n",
       "    <tr>\n",
       "      <th>4</th>\n",
       "      <td>raiser received</td>\n",
       "      <td>2018-12-01</td>\n",
       "      <td>raiser</td>\n",
       "      <td>NOUN</td>\n",
       "      <td>trump</td>\n",
       "      <td>-</td>\n",
       "      <td>raiser</td>\n",
       "    </tr>\n",
       "  </tbody>\n",
       "</table>\n",
       "</div>"
      ],
      "text/plain": [
       "            bigram        date   lemma    pos   pres prev_word   token\n",
       "0              NaN  2018-12-01     say   VERB  trump       NaN     say\n",
       "1       trump fund  2018-12-01   trump    ADJ  trump       NaN   trump\n",
       "2           fund -  2018-12-01    fund   NOUN  trump     trump    fund\n",
       "3         - raiser  2018-12-01       -  PUNCT  trump      fund       -\n",
       "4  raiser received  2018-12-01  raiser   NOUN  trump         -  raiser"
      ]
     },
     "execution_count": 7,
     "metadata": {},
     "output_type": "execute_result"
    }
   ],
   "source": [
    "token_df.head()"
   ]
  },
  {
   "cell_type": "code",
   "execution_count": 15,
   "metadata": {},
   "outputs": [],
   "source": [
    "token_df['year']=token_df['date'].apply(getyear)"
   ]
  },
  {
   "cell_type": "code",
   "execution_count": 24,
   "metadata": {},
   "outputs": [
    {
     "data": {
      "text/html": [
       "<div>\n",
       "<style scoped>\n",
       "    .dataframe tbody tr th:only-of-type {\n",
       "        vertical-align: middle;\n",
       "    }\n",
       "\n",
       "    .dataframe tbody tr th {\n",
       "        vertical-align: top;\n",
       "    }\n",
       "\n",
       "    .dataframe thead th {\n",
       "        text-align: right;\n",
       "    }\n",
       "</style>\n",
       "<table border=\"1\" class=\"dataframe\">\n",
       "  <thead>\n",
       "    <tr style=\"text-align: right;\">\n",
       "      <th></th>\n",
       "      <th>bigram</th>\n",
       "      <th>date</th>\n",
       "      <th>lemma</th>\n",
       "      <th>pos</th>\n",
       "      <th>pres</th>\n",
       "      <th>prev_word</th>\n",
       "      <th>token</th>\n",
       "      <th>year</th>\n",
       "    </tr>\n",
       "  </thead>\n",
       "  <tbody>\n",
       "    <tr>\n",
       "      <th>0</th>\n",
       "      <td>NaN</td>\n",
       "      <td>2018-12-01</td>\n",
       "      <td>say</td>\n",
       "      <td>VERB</td>\n",
       "      <td>trump</td>\n",
       "      <td>NaN</td>\n",
       "      <td>say</td>\n",
       "      <td>2018</td>\n",
       "    </tr>\n",
       "    <tr>\n",
       "      <th>1</th>\n",
       "      <td>trump fund</td>\n",
       "      <td>2018-12-01</td>\n",
       "      <td>trump</td>\n",
       "      <td>ADJ</td>\n",
       "      <td>trump</td>\n",
       "      <td>NaN</td>\n",
       "      <td>trump</td>\n",
       "      <td>2018</td>\n",
       "    </tr>\n",
       "    <tr>\n",
       "      <th>2</th>\n",
       "      <td>fund -</td>\n",
       "      <td>2018-12-01</td>\n",
       "      <td>fund</td>\n",
       "      <td>NOUN</td>\n",
       "      <td>trump</td>\n",
       "      <td>trump</td>\n",
       "      <td>fund</td>\n",
       "      <td>2018</td>\n",
       "    </tr>\n",
       "    <tr>\n",
       "      <th>3</th>\n",
       "      <td>- raiser</td>\n",
       "      <td>2018-12-01</td>\n",
       "      <td>-</td>\n",
       "      <td>PUNCT</td>\n",
       "      <td>trump</td>\n",
       "      <td>fund</td>\n",
       "      <td>-</td>\n",
       "      <td>2018</td>\n",
       "    </tr>\n",
       "    <tr>\n",
       "      <th>4</th>\n",
       "      <td>raiser received</td>\n",
       "      <td>2018-12-01</td>\n",
       "      <td>raiser</td>\n",
       "      <td>NOUN</td>\n",
       "      <td>trump</td>\n",
       "      <td>-</td>\n",
       "      <td>raiser</td>\n",
       "      <td>2018</td>\n",
       "    </tr>\n",
       "  </tbody>\n",
       "</table>\n",
       "</div>"
      ],
      "text/plain": [
       "            bigram        date   lemma    pos   pres prev_word   token  year\n",
       "0              NaN  2018-12-01     say   VERB  trump       NaN     say  2018\n",
       "1       trump fund  2018-12-01   trump    ADJ  trump       NaN   trump  2018\n",
       "2           fund -  2018-12-01    fund   NOUN  trump     trump    fund  2018\n",
       "3         - raiser  2018-12-01       -  PUNCT  trump      fund       -  2018\n",
       "4  raiser received  2018-12-01  raiser   NOUN  trump         -  raiser  2018"
      ]
     },
     "execution_count": 24,
     "metadata": {},
     "output_type": "execute_result"
    }
   ],
   "source": [
    "token_df.head()"
   ]
  },
  {
   "cell_type": "markdown",
   "metadata": {},
   "source": [
    "The chart below aggregates usage of \"?\" punctuation in headlines by date. The results show a dramatic increase in using ?'s to frame headlines during the Trump administration."
   ]
  },
  {
   "cell_type": "code",
   "execution_count": 32,
   "metadata": {},
   "outputs": [
    {
     "data": {
      "text/plain": [
       "<matplotlib.axes._subplots.AxesSubplot at 0x7fe855ec0d30>"
      ]
     },
     "execution_count": 32,
     "metadata": {},
     "output_type": "execute_result"
    },
    {
     "data": {
      "image/png": "[encoded data removed]",
      "text/plain": [
       "<Figure size 432x288 with 1 Axes>"
      ]
     },
     "metadata": {},
     "output_type": "display_data"
    }
   ],
   "source": [
    "%matplotlib inline\n",
    "\n",
    "count_questions=token_df[token_df['token']==\"?\"].pivot_table(values='date', index=\"year\", columns=\"pres\", aggfunc=pd.Series.nunique)\n",
    "count_questions.plot(kind='bar',width=2.0)"
   ]
  },
  {
   "cell_type": "code",
   "execution_count": null,
   "metadata": {},
   "outputs": [],
   "source": []
  }
 ],
 "metadata": {
  "kernelspec": {
   "display_name": "Python 3.6.5 64-bit ('base': conda)",
   "language": "python",
   "name": "python36564bitbaseconda04597944955d4d07b3b1c75d7af9d833"
  },
  "language_info": {
   "codemirror_mode": {
    "name": "ipython",
    "version": 3
   },
   "file_extension": ".py",
   "mimetype": "text/x-python",
   "name": "python",
   "nbconvert_exporter": "python",
   "pygments_lexer": "ipython3",
   "version": "3.6.5"
  }
 },
 "nbformat": 4,
 "nbformat_minor": 2
}
